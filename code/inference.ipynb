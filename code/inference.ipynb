{
 "cells": [
  {
   "cell_type": "code",
   "execution_count": 1,
   "metadata": {},
   "outputs": [],
   "source": [
    "import pandas as pd\n",
    "from surprise.dump import load\n",
    "from random import choices, choice\n",
    "interactions = pd.read_parquet(\"../parquet/interaction_matrix.parquet\")"
   ]
  },
  {
   "cell_type": "markdown",
   "metadata": {},
   "source": [
    "Getting the list of users & items we have trained on"
   ]
  },
  {
   "cell_type": "code",
   "execution_count": 2,
   "metadata": {},
   "outputs": [],
   "source": [
    "users = list(interactions.index)\n",
    "items = list(interactions.columns)"
   ]
  },
  {
   "cell_type": "markdown",
   "metadata": {},
   "source": [
    "Loading the trained model"
   ]
  },
  {
   "cell_type": "code",
   "execution_count": 3,
   "metadata": {},
   "outputs": [],
   "source": [
    "model = load(\"../model/model.pkl\")[1]"
   ]
  },
  {
   "cell_type": "markdown",
   "metadata": {},
   "source": [
    "https://surprise.readthedocs.io/en/stable/algobase.html#surprise.prediction_algorithms.algo_base.AlgoBase.predict"
   ]
  },
  {
   "cell_type": "markdown",
   "metadata": {},
   "source": [
    "Predicting rating of a random item for a random user "
   ]
  },
  {
   "cell_type": "code",
   "execution_count": 4,
   "metadata": {},
   "outputs": [
    {
     "name": "stdout",
     "output_type": "stream",
     "text": [
      "trgt_user=164; trgt_item=692\n",
      "estimate=4.683; original=nan\n"
     ]
    }
   ],
   "source": [
    "trgt_user = choice(users)\n",
    "trgt_item = choice(items)\n",
    "predicted_rating = model.predict(trgt_user,trgt_item)\n",
    "print(f\"{trgt_user=}; {trgt_item=}\")\n",
    "print(f\"estimate={round(predicted_rating.est,3)}; original={interactions.loc[trgt_user, trgt_item]}\")"
   ]
  },
  {
   "cell_type": "code",
   "execution_count": 5,
   "metadata": {},
   "outputs": [
    {
     "name": "stdout",
     "output_type": "stream",
     "text": [
      "======================================================================================\n",
      "                           Predicting ratings for user 419                            \n",
      "======================================================================================\n",
      "user: 419        item: 237        r_ui = nan   est = 3.61   {'was_impossible': False}\n",
      "user: 419        item: 1313       r_ui = nan   est = 3.65   {'was_impossible': False}\n",
      "user: 419        item: 298        r_ui = nan   est = 3.97   {'was_impossible': False}\n",
      "user: 419        item: 202        r_ui = nan   est = 4.11   {'was_impossible': False}\n",
      "user: 419        item: 893        r_ui = nan   est = 3.38   {'was_impossible': False}\n",
      "user: 419        item: 736        r_ui = nan   est = 4.26   {'was_impossible': False}\n",
      "======================================================================================\n",
      "                           Predicting ratings for user 426                            \n",
      "======================================================================================\n",
      "user: 426        item: 1224       r_ui = nan   est = 2.85   {'was_impossible': False}\n",
      "user: 426        item: 196        r_ui = 4.00   est = 3.61   {'was_impossible': False}\n",
      "user: 426        item: 569        r_ui = nan   est = 2.89   {'was_impossible': False}\n",
      "user: 426        item: 629        r_ui = nan   est = 3.31   {'was_impossible': False}\n",
      "user: 426        item: 978        r_ui = nan   est = 2.95   {'was_impossible': False}\n",
      "user: 426        item: 638        r_ui = nan   est = 3.87   {'was_impossible': False}\n",
      "======================================================================================\n",
      "                           Predicting ratings for user 395                            \n",
      "======================================================================================\n",
      "user: 395        item: 991        r_ui = nan   est = 2.36   {'was_impossible': False}\n",
      "user: 395        item: 651        r_ui = nan   est = 4.35   {'was_impossible': False}\n",
      "user: 395        item: 750        r_ui = 5.00   est = 4.25   {'was_impossible': False}\n",
      "user: 395        item: 595        r_ui = nan   est = 3.17   {'was_impossible': False}\n",
      "user: 395        item: 262        r_ui = nan   est = 3.80   {'was_impossible': False}\n",
      "user: 395        item: 152        r_ui = nan   est = 4.01   {'was_impossible': False}\n",
      "======================================================================================\n",
      "                           Predicting ratings for user 657                            \n",
      "======================================================================================\n",
      "user: 657        item: 1180       r_ui = nan   est = 2.39   {'was_impossible': False}\n",
      "user: 657        item: 526        r_ui = nan   est = 3.46   {'was_impossible': False}\n",
      "user: 657        item: 568        r_ui = nan   est = 3.07   {'was_impossible': False}\n",
      "user: 657        item: 139        r_ui = nan   est = 2.56   {'was_impossible': False}\n",
      "user: 657        item: 1187       r_ui = nan   est = 3.34   {'was_impossible': False}\n",
      "user: 657        item: 921        r_ui = nan   est = 3.66   {'was_impossible': False}\n",
      "======================================================================================\n",
      "                           Predicting ratings for user 613                            \n",
      "======================================================================================\n",
      "user: 613        item: 486        r_ui = nan   est = 4.29   {'was_impossible': False}\n",
      "user: 613        item: 14         r_ui = nan   est = 4.57   {'was_impossible': False}\n",
      "user: 613        item: 383        r_ui = nan   est = 3.09   {'was_impossible': False}\n",
      "user: 613        item: 536        r_ui = nan   est = 4.13   {'was_impossible': False}\n",
      "user: 613        item: 88         r_ui = nan   est = 4.01   {'was_impossible': False}\n",
      "user: 613        item: 1085       r_ui = nan   est = 4.09   {'was_impossible': False}\n"
     ]
    }
   ],
   "source": [
    "for user in choices(users, k=5):\n",
    "    print(\"==\"*43)\n",
    "    print(f\"Predicting ratings for user {user}\".center(86))\n",
    "    print(\"==\"*43)\n",
    "    for item in choices(items, k =6):\n",
    "        print(model.predict(user, item, interactions.loc[user, item]))\n",
    "    "
   ]
  },
  {
   "cell_type": "code",
   "execution_count": null,
   "metadata": {},
   "outputs": [],
   "source": []
  }
 ],
 "metadata": {
  "kernelspec": {
   "display_name": "venv-mini",
   "language": "python",
   "name": "python3"
  },
  "language_info": {
   "codemirror_mode": {
    "name": "ipython",
    "version": 3
   },
   "file_extension": ".py",
   "mimetype": "text/x-python",
   "name": "python",
   "nbconvert_exporter": "python",
   "pygments_lexer": "ipython3",
   "version": "3.10.7"
  }
 },
 "nbformat": 4,
 "nbformat_minor": 2
}
