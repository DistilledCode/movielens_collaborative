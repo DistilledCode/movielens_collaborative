{
 "cells": [
  {
   "cell_type": "markdown",
   "metadata": {},
   "source": [
    "## Training [SVD++ algorithm](https://surprise.readthedocs.io/en/stable/matrix_factorization.html#surprise.prediction_algorithms.matrix_factorization.SVDpp) on [MovieLens 100k](https://grouplens.org/datasets/movielens/100k/) Dataset"
   ]
  },
  {
   "cell_type": "markdown",
   "metadata": {},
   "source": [
    "downloading the required libraries"
   ]
  },
  {
   "cell_type": "code",
   "execution_count": 1,
   "metadata": {},
   "outputs": [
    {
     "name": "stdout",
     "output_type": "stream",
     "text": [
      "Requirement already satisfied: wheel in c:\\users\\shukl\\venv-test\\lib\\site-packages (0.42.0)\n",
      "Requirement already satisfied: surprise in c:\\users\\shukl\\venv-test\\lib\\site-packages (0.1)\n",
      "Requirement already satisfied: pandas in c:\\users\\shukl\\venv-test\\lib\\site-packages (2.2.0)\n",
      "Requirement already satisfied: scikit-learn in c:\\users\\shukl\\venv-test\\lib\\site-packages (1.4.1.post1)\n",
      "Requirement already satisfied: fastparquet in c:\\users\\shukl\\venv-test\\lib\\site-packages (2024.2.0)\n",
      "Requirement already satisfied: scikit-surprise in c:\\users\\shukl\\venv-test\\lib\\site-packages (from surprise) (1.1.3)\n",
      "Requirement already satisfied: python-dateutil>=2.8.2 in c:\\users\\shukl\\venv-test\\lib\\site-packages (from pandas) (2.8.2)\n",
      "Requirement already satisfied: tzdata>=2022.7 in c:\\users\\shukl\\venv-test\\lib\\site-packages (from pandas) (2024.1)\n",
      "Requirement already satisfied: numpy<2,>=1.22.4 in c:\\users\\shukl\\venv-test\\lib\\site-packages (from pandas) (1.26.4)\n",
      "Requirement already satisfied: pytz>=2020.1 in c:\\users\\shukl\\venv-test\\lib\\site-packages (from pandas) (2024.1)\n",
      "Requirement already satisfied: threadpoolctl>=2.0.0 in c:\\users\\shukl\\venv-test\\lib\\site-packages (from scikit-learn) (3.3.0)\n",
      "Requirement already satisfied: joblib>=1.2.0 in c:\\users\\shukl\\venv-test\\lib\\site-packages (from scikit-learn) (1.3.2)\n",
      "Requirement already satisfied: scipy>=1.6.0 in c:\\users\\shukl\\venv-test\\lib\\site-packages (from scikit-learn) (1.12.0)\n",
      "Requirement already satisfied: fsspec in c:\\users\\shukl\\venv-test\\lib\\site-packages (from fastparquet) (2024.2.0)\n",
      "Requirement already satisfied: cramjam>=2.3 in c:\\users\\shukl\\venv-test\\lib\\site-packages (from fastparquet) (2.8.1)\n",
      "Requirement already satisfied: packaging in c:\\users\\shukl\\venv-test\\lib\\site-packages (from fastparquet) (23.2)\n",
      "Requirement already satisfied: six>=1.5 in c:\\users\\shukl\\venv-test\\lib\\site-packages (from python-dateutil>=2.8.2->pandas) (1.16.0)\n"
     ]
    },
    {
     "name": "stderr",
     "output_type": "stream",
     "text": [
      "WARNING: There was an error checking the latest version of pip.\n"
     ]
    }
   ],
   "source": [
    "!pip install wheel surprise pandas scikit-learn fastparquet"
   ]
  },
  {
   "cell_type": "code",
   "execution_count": 2,
   "metadata": {},
   "outputs": [],
   "source": [
    "import pandas as pd\n",
    "from sklearn.model_selection import train_test_split\n",
    "import fastparquet\n",
    "from surprise.reader import Reader\n",
    "from surprise.dataset import DatasetAutoFolds\n",
    "from surprise.accuracy import mae, mse, rmse\n",
    "from surprise.model_selection import GridSearchCV\n",
    "from surprise.prediction_algorithms import SVDpp"
   ]
  },
  {
   "cell_type": "code",
   "execution_count": 3,
   "metadata": {},
   "outputs": [],
   "source": [
    "movie_cols = [\n",
    "    \"movieid\",\n",
    "    \"movie_title\",\n",
    "    \"release_date\",\n",
    "    \"video_release_date\",\n",
    "    \"IMDb_URL\",\n",
    "    \"unknown\", #genre of the movie (one-hot encoded)\n",
    "    \"action\",\n",
    "    \"adventure\",\n",
    "    \"animation\",\n",
    "    \"children\",\n",
    "    \"comedy\",\n",
    "    \"crime\",\n",
    "    \"documentary\",\n",
    "    \"drama\",\n",
    "    \"fantasy\",\n",
    "    \"film-noir\",\n",
    "    \"horror\",\n",
    "    \"musical\",\n",
    "    \"mystery\",\n",
    "    \"romance\",\n",
    "    \"sci-fi\",\n",
    "    \"thriller\",\n",
    "    \"War\",\n",
    "    \"western\",\n",
    "]"
   ]
  },
  {
   "cell_type": "markdown",
   "metadata": {},
   "source": [
    "loading the data"
   ]
  },
  {
   "cell_type": "code",
   "execution_count": 4,
   "metadata": {},
   "outputs": [],
   "source": [
    "ratings = pd.read_csv(\"../data/u.data\", delimiter=\"\\t\", names=[\"userid\",\"movieid\",\"rating\",\"timestamp\"])\n",
    "items = pd.read_csv(\"../data/u.item\", delimiter=\"|\", names=movie_cols, encoding_errors=\"replace\")"
   ]
  },
  {
   "cell_type": "code",
   "execution_count": 5,
   "metadata": {},
   "outputs": [],
   "source": [
    "ratings = pd.merge(ratings, items, on=\"movieid\")"
   ]
  },
  {
   "cell_type": "code",
   "execution_count": 6,
   "metadata": {},
   "outputs": [
    {
     "data": {
      "text/html": [
       "<div>\n",
       "<style scoped>\n",
       "    .dataframe tbody tr th:only-of-type {\n",
       "        vertical-align: middle;\n",
       "    }\n",
       "\n",
       "    .dataframe tbody tr th {\n",
       "        vertical-align: top;\n",
       "    }\n",
       "\n",
       "    .dataframe thead th {\n",
       "        text-align: right;\n",
       "    }\n",
       "</style>\n",
       "<table border=\"1\" class=\"dataframe\">\n",
       "  <thead>\n",
       "    <tr style=\"text-align: right;\">\n",
       "      <th></th>\n",
       "      <th>userid</th>\n",
       "      <th>movieid</th>\n",
       "      <th>rating</th>\n",
       "      <th>timestamp</th>\n",
       "      <th>movie_title</th>\n",
       "      <th>release_date</th>\n",
       "      <th>video_release_date</th>\n",
       "      <th>IMDb_URL</th>\n",
       "      <th>unknown</th>\n",
       "      <th>action</th>\n",
       "      <th>...</th>\n",
       "      <th>fantasy</th>\n",
       "      <th>film-noir</th>\n",
       "      <th>horror</th>\n",
       "      <th>musical</th>\n",
       "      <th>mystery</th>\n",
       "      <th>romance</th>\n",
       "      <th>sci-fi</th>\n",
       "      <th>thriller</th>\n",
       "      <th>War</th>\n",
       "      <th>western</th>\n",
       "    </tr>\n",
       "  </thead>\n",
       "  <tbody>\n",
       "    <tr>\n",
       "      <th>0</th>\n",
       "      <td>196</td>\n",
       "      <td>242</td>\n",
       "      <td>3</td>\n",
       "      <td>881250949</td>\n",
       "      <td>Kolya (1996)</td>\n",
       "      <td>24-Jan-1997</td>\n",
       "      <td>NaN</td>\n",
       "      <td>http://us.imdb.com/M/title-exact?Kolya%20(1996)</td>\n",
       "      <td>0</td>\n",
       "      <td>0</td>\n",
       "      <td>...</td>\n",
       "      <td>0</td>\n",
       "      <td>0</td>\n",
       "      <td>0</td>\n",
       "      <td>0</td>\n",
       "      <td>0</td>\n",
       "      <td>0</td>\n",
       "      <td>0</td>\n",
       "      <td>0</td>\n",
       "      <td>0</td>\n",
       "      <td>0</td>\n",
       "    </tr>\n",
       "    <tr>\n",
       "      <th>1</th>\n",
       "      <td>186</td>\n",
       "      <td>302</td>\n",
       "      <td>3</td>\n",
       "      <td>891717742</td>\n",
       "      <td>L.A. Confidential (1997)</td>\n",
       "      <td>01-Jan-1997</td>\n",
       "      <td>NaN</td>\n",
       "      <td>http://us.imdb.com/M/title-exact?L%2EA%2E+Conf...</td>\n",
       "      <td>0</td>\n",
       "      <td>0</td>\n",
       "      <td>...</td>\n",
       "      <td>0</td>\n",
       "      <td>1</td>\n",
       "      <td>0</td>\n",
       "      <td>0</td>\n",
       "      <td>1</td>\n",
       "      <td>0</td>\n",
       "      <td>0</td>\n",
       "      <td>1</td>\n",
       "      <td>0</td>\n",
       "      <td>0</td>\n",
       "    </tr>\n",
       "    <tr>\n",
       "      <th>2</th>\n",
       "      <td>22</td>\n",
       "      <td>377</td>\n",
       "      <td>1</td>\n",
       "      <td>878887116</td>\n",
       "      <td>Heavyweights (1994)</td>\n",
       "      <td>01-Jan-1994</td>\n",
       "      <td>NaN</td>\n",
       "      <td>http://us.imdb.com/M/title-exact?Heavyweights%...</td>\n",
       "      <td>0</td>\n",
       "      <td>0</td>\n",
       "      <td>...</td>\n",
       "      <td>0</td>\n",
       "      <td>0</td>\n",
       "      <td>0</td>\n",
       "      <td>0</td>\n",
       "      <td>0</td>\n",
       "      <td>0</td>\n",
       "      <td>0</td>\n",
       "      <td>0</td>\n",
       "      <td>0</td>\n",
       "      <td>0</td>\n",
       "    </tr>\n",
       "    <tr>\n",
       "      <th>3</th>\n",
       "      <td>244</td>\n",
       "      <td>51</td>\n",
       "      <td>2</td>\n",
       "      <td>880606923</td>\n",
       "      <td>Legends of the Fall (1994)</td>\n",
       "      <td>01-Jan-1994</td>\n",
       "      <td>NaN</td>\n",
       "      <td>http://us.imdb.com/M/title-exact?Legends%20of%...</td>\n",
       "      <td>0</td>\n",
       "      <td>0</td>\n",
       "      <td>...</td>\n",
       "      <td>0</td>\n",
       "      <td>0</td>\n",
       "      <td>0</td>\n",
       "      <td>0</td>\n",
       "      <td>0</td>\n",
       "      <td>1</td>\n",
       "      <td>0</td>\n",
       "      <td>0</td>\n",
       "      <td>1</td>\n",
       "      <td>1</td>\n",
       "    </tr>\n",
       "    <tr>\n",
       "      <th>4</th>\n",
       "      <td>166</td>\n",
       "      <td>346</td>\n",
       "      <td>1</td>\n",
       "      <td>886397596</td>\n",
       "      <td>Jackie Brown (1997)</td>\n",
       "      <td>01-Jan-1997</td>\n",
       "      <td>NaN</td>\n",
       "      <td>http://us.imdb.com/M/title-exact?imdb-title-11...</td>\n",
       "      <td>0</td>\n",
       "      <td>0</td>\n",
       "      <td>...</td>\n",
       "      <td>0</td>\n",
       "      <td>0</td>\n",
       "      <td>0</td>\n",
       "      <td>0</td>\n",
       "      <td>0</td>\n",
       "      <td>0</td>\n",
       "      <td>0</td>\n",
       "      <td>0</td>\n",
       "      <td>0</td>\n",
       "      <td>0</td>\n",
       "    </tr>\n",
       "    <tr>\n",
       "      <th>...</th>\n",
       "      <td>...</td>\n",
       "      <td>...</td>\n",
       "      <td>...</td>\n",
       "      <td>...</td>\n",
       "      <td>...</td>\n",
       "      <td>...</td>\n",
       "      <td>...</td>\n",
       "      <td>...</td>\n",
       "      <td>...</td>\n",
       "      <td>...</td>\n",
       "      <td>...</td>\n",
       "      <td>...</td>\n",
       "      <td>...</td>\n",
       "      <td>...</td>\n",
       "      <td>...</td>\n",
       "      <td>...</td>\n",
       "      <td>...</td>\n",
       "      <td>...</td>\n",
       "      <td>...</td>\n",
       "      <td>...</td>\n",
       "      <td>...</td>\n",
       "    </tr>\n",
       "    <tr>\n",
       "      <th>99995</th>\n",
       "      <td>880</td>\n",
       "      <td>476</td>\n",
       "      <td>3</td>\n",
       "      <td>880175444</td>\n",
       "      <td>First Wives Club, The (1996)</td>\n",
       "      <td>14-Sep-1996</td>\n",
       "      <td>NaN</td>\n",
       "      <td>http://us.imdb.com/M/title-exact?First%20Wives...</td>\n",
       "      <td>0</td>\n",
       "      <td>0</td>\n",
       "      <td>...</td>\n",
       "      <td>0</td>\n",
       "      <td>0</td>\n",
       "      <td>0</td>\n",
       "      <td>0</td>\n",
       "      <td>0</td>\n",
       "      <td>0</td>\n",
       "      <td>0</td>\n",
       "      <td>0</td>\n",
       "      <td>0</td>\n",
       "      <td>0</td>\n",
       "    </tr>\n",
       "    <tr>\n",
       "      <th>99996</th>\n",
       "      <td>716</td>\n",
       "      <td>204</td>\n",
       "      <td>5</td>\n",
       "      <td>879795543</td>\n",
       "      <td>Back to the Future (1985)</td>\n",
       "      <td>01-Jan-1985</td>\n",
       "      <td>NaN</td>\n",
       "      <td>http://us.imdb.com/M/title-exact?Back%20to%20t...</td>\n",
       "      <td>0</td>\n",
       "      <td>0</td>\n",
       "      <td>...</td>\n",
       "      <td>0</td>\n",
       "      <td>0</td>\n",
       "      <td>0</td>\n",
       "      <td>0</td>\n",
       "      <td>0</td>\n",
       "      <td>0</td>\n",
       "      <td>1</td>\n",
       "      <td>0</td>\n",
       "      <td>0</td>\n",
       "      <td>0</td>\n",
       "    </tr>\n",
       "    <tr>\n",
       "      <th>99997</th>\n",
       "      <td>276</td>\n",
       "      <td>1090</td>\n",
       "      <td>1</td>\n",
       "      <td>874795795</td>\n",
       "      <td>Sliver (1993)</td>\n",
       "      <td>01-Jan-1993</td>\n",
       "      <td>NaN</td>\n",
       "      <td>http://us.imdb.com/M/title-exact?Sliver%20(1993)</td>\n",
       "      <td>0</td>\n",
       "      <td>0</td>\n",
       "      <td>...</td>\n",
       "      <td>0</td>\n",
       "      <td>0</td>\n",
       "      <td>0</td>\n",
       "      <td>0</td>\n",
       "      <td>0</td>\n",
       "      <td>0</td>\n",
       "      <td>0</td>\n",
       "      <td>1</td>\n",
       "      <td>0</td>\n",
       "      <td>0</td>\n",
       "    </tr>\n",
       "    <tr>\n",
       "      <th>99998</th>\n",
       "      <td>13</td>\n",
       "      <td>225</td>\n",
       "      <td>2</td>\n",
       "      <td>882399156</td>\n",
       "      <td>101 Dalmatians (1996)</td>\n",
       "      <td>27-Nov-1996</td>\n",
       "      <td>NaN</td>\n",
       "      <td>http://us.imdb.com/M/title-exact?101%20Dalmati...</td>\n",
       "      <td>0</td>\n",
       "      <td>0</td>\n",
       "      <td>...</td>\n",
       "      <td>0</td>\n",
       "      <td>0</td>\n",
       "      <td>0</td>\n",
       "      <td>0</td>\n",
       "      <td>0</td>\n",
       "      <td>0</td>\n",
       "      <td>0</td>\n",
       "      <td>0</td>\n",
       "      <td>0</td>\n",
       "      <td>0</td>\n",
       "    </tr>\n",
       "    <tr>\n",
       "      <th>99999</th>\n",
       "      <td>12</td>\n",
       "      <td>203</td>\n",
       "      <td>3</td>\n",
       "      <td>879959583</td>\n",
       "      <td>Unforgiven (1992)</td>\n",
       "      <td>01-Jan-1992</td>\n",
       "      <td>NaN</td>\n",
       "      <td>http://us.imdb.com/M/title-exact?Unforgiven%20...</td>\n",
       "      <td>0</td>\n",
       "      <td>0</td>\n",
       "      <td>...</td>\n",
       "      <td>0</td>\n",
       "      <td>0</td>\n",
       "      <td>0</td>\n",
       "      <td>0</td>\n",
       "      <td>0</td>\n",
       "      <td>0</td>\n",
       "      <td>0</td>\n",
       "      <td>0</td>\n",
       "      <td>0</td>\n",
       "      <td>1</td>\n",
       "    </tr>\n",
       "  </tbody>\n",
       "</table>\n",
       "<p>100000 rows × 27 columns</p>\n",
       "</div>"
      ],
      "text/plain": [
       "       userid  movieid  rating  timestamp                   movie_title  \\\n",
       "0         196      242       3  881250949                  Kolya (1996)   \n",
       "1         186      302       3  891717742      L.A. Confidential (1997)   \n",
       "2          22      377       1  878887116           Heavyweights (1994)   \n",
       "3         244       51       2  880606923    Legends of the Fall (1994)   \n",
       "4         166      346       1  886397596           Jackie Brown (1997)   \n",
       "...       ...      ...     ...        ...                           ...   \n",
       "99995     880      476       3  880175444  First Wives Club, The (1996)   \n",
       "99996     716      204       5  879795543     Back to the Future (1985)   \n",
       "99997     276     1090       1  874795795                 Sliver (1993)   \n",
       "99998      13      225       2  882399156         101 Dalmatians (1996)   \n",
       "99999      12      203       3  879959583             Unforgiven (1992)   \n",
       "\n",
       "      release_date  video_release_date  \\\n",
       "0      24-Jan-1997                 NaN   \n",
       "1      01-Jan-1997                 NaN   \n",
       "2      01-Jan-1994                 NaN   \n",
       "3      01-Jan-1994                 NaN   \n",
       "4      01-Jan-1997                 NaN   \n",
       "...            ...                 ...   \n",
       "99995  14-Sep-1996                 NaN   \n",
       "99996  01-Jan-1985                 NaN   \n",
       "99997  01-Jan-1993                 NaN   \n",
       "99998  27-Nov-1996                 NaN   \n",
       "99999  01-Jan-1992                 NaN   \n",
       "\n",
       "                                                IMDb_URL  unknown  action  \\\n",
       "0        http://us.imdb.com/M/title-exact?Kolya%20(1996)        0       0   \n",
       "1      http://us.imdb.com/M/title-exact?L%2EA%2E+Conf...        0       0   \n",
       "2      http://us.imdb.com/M/title-exact?Heavyweights%...        0       0   \n",
       "3      http://us.imdb.com/M/title-exact?Legends%20of%...        0       0   \n",
       "4      http://us.imdb.com/M/title-exact?imdb-title-11...        0       0   \n",
       "...                                                  ...      ...     ...   \n",
       "99995  http://us.imdb.com/M/title-exact?First%20Wives...        0       0   \n",
       "99996  http://us.imdb.com/M/title-exact?Back%20to%20t...        0       0   \n",
       "99997   http://us.imdb.com/M/title-exact?Sliver%20(1993)        0       0   \n",
       "99998  http://us.imdb.com/M/title-exact?101%20Dalmati...        0       0   \n",
       "99999  http://us.imdb.com/M/title-exact?Unforgiven%20...        0       0   \n",
       "\n",
       "       ...  fantasy  film-noir  horror  musical  mystery  romance  sci-fi  \\\n",
       "0      ...        0          0       0        0        0        0       0   \n",
       "1      ...        0          1       0        0        1        0       0   \n",
       "2      ...        0          0       0        0        0        0       0   \n",
       "3      ...        0          0       0        0        0        1       0   \n",
       "4      ...        0          0       0        0        0        0       0   \n",
       "...    ...      ...        ...     ...      ...      ...      ...     ...   \n",
       "99995  ...        0          0       0        0        0        0       0   \n",
       "99996  ...        0          0       0        0        0        0       1   \n",
       "99997  ...        0          0       0        0        0        0       0   \n",
       "99998  ...        0          0       0        0        0        0       0   \n",
       "99999  ...        0          0       0        0        0        0       0   \n",
       "\n",
       "       thriller  War  western  \n",
       "0             0    0        0  \n",
       "1             1    0        0  \n",
       "2             0    0        0  \n",
       "3             0    1        1  \n",
       "4             0    0        0  \n",
       "...         ...  ...      ...  \n",
       "99995         0    0        0  \n",
       "99996         0    0        0  \n",
       "99997         1    0        0  \n",
       "99998         0    0        0  \n",
       "99999         0    0        1  \n",
       "\n",
       "[100000 rows x 27 columns]"
      ]
     },
     "execution_count": 6,
     "metadata": {},
     "output_type": "execute_result"
    }
   ],
   "source": [
    "ratings"
   ]
  },
  {
   "cell_type": "markdown",
   "metadata": {},
   "source": [
    "Descriptive stats of number of ratings for a movie"
   ]
  },
  {
   "cell_type": "code",
   "execution_count": 7,
   "metadata": {},
   "outputs": [
    {
     "data": {
      "text/plain": [
       "count    1682.000000\n",
       "mean       59.453032\n",
       "std        80.383846\n",
       "min         1.000000\n",
       "25%         6.000000\n",
       "50%        27.000000\n",
       "75%        80.000000\n",
       "max       583.000000\n",
       "Name: count, dtype: float64"
      ]
     },
     "execution_count": 7,
     "metadata": {},
     "output_type": "execute_result"
    }
   ],
   "source": [
    "ratings[\"movieid\"].value_counts().describe()"
   ]
  },
  {
   "cell_type": "markdown",
   "metadata": {},
   "source": [
    "Filtering such that each movie has alteast 10 ratings"
   ]
  },
  {
   "cell_type": "code",
   "execution_count": 8,
   "metadata": {},
   "outputs": [],
   "source": [
    "ratings = ratings.groupby(\"movieid\").filter(lambda x: 10 <= len(x))"
   ]
  },
  {
   "cell_type": "markdown",
   "metadata": {},
   "source": [
    "Descriptive stats of number of ratings individual users gave"
   ]
  },
  {
   "cell_type": "code",
   "execution_count": 9,
   "metadata": {},
   "outputs": [
    {
     "data": {
      "text/plain": [
       "count    943.000000\n",
       "mean     103.873807\n",
       "std       96.854269\n",
       "min       18.000000\n",
       "25%       33.000000\n",
       "50%       64.000000\n",
       "75%      147.000000\n",
       "max      589.000000\n",
       "Name: count, dtype: float64"
      ]
     },
     "execution_count": 9,
     "metadata": {},
     "output_type": "execute_result"
    }
   ],
   "source": [
    "ratings[\"userid\"].value_counts().describe()"
   ]
  },
  {
   "cell_type": "markdown",
   "metadata": {},
   "source": [
    "Descriptive stats of number of ratings for a movie after filtering"
   ]
  },
  {
   "cell_type": "code",
   "execution_count": 10,
   "metadata": {},
   "outputs": [
    {
     "data": {
      "text/plain": [
       "count    1152.000000\n",
       "mean       85.028646\n",
       "std        85.768231\n",
       "min        10.000000\n",
       "25%        25.000000\n",
       "50%        53.500000\n",
       "75%       117.000000\n",
       "max       583.000000\n",
       "Name: count, dtype: float64"
      ]
     },
     "execution_count": 10,
     "metadata": {},
     "output_type": "execute_result"
    }
   ],
   "source": [
    "ratings[\"movieid\"].value_counts().describe()"
   ]
  },
  {
   "cell_type": "markdown",
   "metadata": {},
   "source": [
    "Descriptive stats of ratings"
   ]
  },
  {
   "cell_type": "code",
   "execution_count": 11,
   "metadata": {},
   "outputs": [
    {
     "data": {
      "text/plain": [
       "count    97953.000000\n",
       "mean         3.545997\n",
       "std          1.116467\n",
       "min          1.000000\n",
       "25%          3.000000\n",
       "50%          4.000000\n",
       "75%          4.000000\n",
       "max          5.000000\n",
       "Name: rating, dtype: float64"
      ]
     },
     "execution_count": 11,
     "metadata": {},
     "output_type": "execute_result"
    }
   ],
   "source": [
    "ratings[\"rating\"].describe()"
   ]
  },
  {
   "cell_type": "markdown",
   "metadata": {},
   "source": [
    "Splitting the data in 80-20 train-test split such that each user is present in both sets"
   ]
  },
  {
   "cell_type": "code",
   "execution_count": 12,
   "metadata": {},
   "outputs": [],
   "source": [
    "train, test = train_test_split(ratings, test_size=0.2, stratify=ratings[\"userid\"], random_state=42)"
   ]
  },
  {
   "cell_type": "markdown",
   "metadata": {},
   "source": [
    "Saving the interaction matrix, and the test-train split"
   ]
  },
  {
   "cell_type": "code",
   "execution_count": 13,
   "metadata": {},
   "outputs": [],
   "source": [
    "pd.pivot_table(ratings, values=\"rating\", index=\"userid\", columns=\"movieid\").to_parquet(\"../parquet/interaction_matrix.parquet\")\n",
    "train.to_parquet(\"../parquet/train.parquet\")\n",
    "train.to_parquet(\"../parquet/test.parquet\")"
   ]
  },
  {
   "cell_type": "markdown",
   "metadata": {},
   "source": [
    "verifying that the train-test split are in desired proportion"
   ]
  },
  {
   "cell_type": "code",
   "execution_count": 14,
   "metadata": {},
   "outputs": [
    {
     "data": {
      "text/plain": [
       "(0.79999591640889, 0.20000408359111002)"
      ]
     },
     "execution_count": 14,
     "metadata": {},
     "output_type": "execute_result"
    }
   ],
   "source": [
    "len(train)/len(ratings), len(test)/len(ratings) "
   ]
  },
  {
   "cell_type": "markdown",
   "metadata": {},
   "source": [
    "Preparing the train and test data for model training and testing"
   ]
  },
  {
   "cell_type": "code",
   "execution_count": 15,
   "metadata": {},
   "outputs": [],
   "source": [
    "\n",
    "#! Range of our raitngs is 1 to 5\n",
    "reader = Reader(rating_scale=(1, 5))\n",
    "data_test = (\n",
    "    DatasetAutoFolds(\n",
    "        reader=reader,\n",
    "        df=test[[\"userid\", \"movieid\", \"rating\"]],\n",
    "    )\n",
    "    .build_full_trainset()\n",
    "    .build_testset()\n",
    ")\n",
    "data_train = DatasetAutoFolds(\n",
    "    reader=reader, df=train[[\"userid\", \"movieid\", \"rating\"]]\n",
    ")"
   ]
  },
  {
   "cell_type": "markdown",
   "metadata": {},
   "source": [
    "We're running a Gridsearch with 5 fold cross validation, therefore, a separate validation set is not required"
   ]
  },
  {
   "cell_type": "code",
   "execution_count": 16,
   "metadata": {},
   "outputs": [],
   "source": [
    "\n",
    "#! setting up parameteres for gridsearch\n",
    "param_grid = {\n",
    "    \"n_factors\": [25, 20, 15],\n",
    "    \"lr_all\": [0.002, 0.001],\n",
    "    \"reg_all\": [0.002, 0.001],\n",
    "    \"n_epochs\": [100],\n",
    "}\n",
    "\n",
    "\n",
    "gs = GridSearchCV(\n",
    "    SVDpp,\n",
    "    param_grid,\n",
    "    measures=[\"mse\", \"mae\"], #! gridsearch will be evaluated on mean-square-error and mean-absolute-error\n",
    "    cv=5, #!5 fold cross validation\n",
    "    refit=True, #! the set of parameters performing best on the first evaluation metric (mse) will be refitted on the whole data set (all 5 folds)\n",
    "    n_jobs=-1,\n",
    "    joblib_verbose=3,\n",
    ")"
   ]
  },
  {
   "cell_type": "markdown",
   "metadata": {},
   "source": [
    "fitting the data"
   ]
  },
  {
   "cell_type": "code",
   "execution_count": 17,
   "metadata": {},
   "outputs": [
    {
     "name": "stderr",
     "output_type": "stream",
     "text": [
      "[Parallel(n_jobs=-1)]: Using backend LokyBackend with 12 concurrent workers.\n",
      "[Parallel(n_jobs=-1)]: Done   8 tasks      | elapsed:  2.3min\n",
      "[Parallel(n_jobs=-1)]: Done  58 out of  60 | elapsed:  9.1min remaining:   18.7s\n",
      "[Parallel(n_jobs=-1)]: Done  60 out of  60 | elapsed:  9.1min finished\n"
     ]
    }
   ],
   "source": [
    "gs.fit(data_train)"
   ]
  },
  {
   "cell_type": "markdown",
   "metadata": {},
   "source": [
    "* Training time: 5m 34s \n",
    "* Specs: 16 core Intel i9-9900K with 64 GB RAM"
   ]
  },
  {
   "cell_type": "code",
   "execution_count": 18,
   "metadata": {},
   "outputs": [
    {
     "data": {
      "text/html": [
       "<div>\n",
       "<style scoped>\n",
       "    .dataframe tbody tr th:only-of-type {\n",
       "        vertical-align: middle;\n",
       "    }\n",
       "\n",
       "    .dataframe tbody tr th {\n",
       "        vertical-align: top;\n",
       "    }\n",
       "\n",
       "    .dataframe thead th {\n",
       "        text-align: right;\n",
       "    }\n",
       "</style>\n",
       "<table border=\"1\" class=\"dataframe\">\n",
       "  <thead>\n",
       "    <tr style=\"text-align: right;\">\n",
       "      <th></th>\n",
       "      <th>mean_test_mse</th>\n",
       "      <th>std_test_mse</th>\n",
       "      <th>mean_test_mae</th>\n",
       "      <th>std_test_mae</th>\n",
       "      <th>params</th>\n",
       "    </tr>\n",
       "  </thead>\n",
       "  <tbody>\n",
       "    <tr>\n",
       "      <th>10</th>\n",
       "      <td>0.852797</td>\n",
       "      <td>0.004257</td>\n",
       "      <td>0.724805</td>\n",
       "      <td>0.001370</td>\n",
       "      <td>{'n_factors': 15, 'lr_all': 0.001, 'reg_all': ...</td>\n",
       "    </tr>\n",
       "    <tr>\n",
       "      <th>6</th>\n",
       "      <td>0.856057</td>\n",
       "      <td>0.008569</td>\n",
       "      <td>0.725754</td>\n",
       "      <td>0.002052</td>\n",
       "      <td>{'n_factors': 20, 'lr_all': 0.001, 'reg_all': ...</td>\n",
       "    </tr>\n",
       "    <tr>\n",
       "      <th>11</th>\n",
       "      <td>0.858529</td>\n",
       "      <td>0.008924</td>\n",
       "      <td>0.726866</td>\n",
       "      <td>0.002893</td>\n",
       "      <td>{'n_factors': 15, 'lr_all': 0.001, 'reg_all': ...</td>\n",
       "    </tr>\n",
       "    <tr>\n",
       "      <th>2</th>\n",
       "      <td>0.859703</td>\n",
       "      <td>0.008624</td>\n",
       "      <td>0.727487</td>\n",
       "      <td>0.003044</td>\n",
       "      <td>{'n_factors': 25, 'lr_all': 0.001, 'reg_all': ...</td>\n",
       "    </tr>\n",
       "    <tr>\n",
       "      <th>7</th>\n",
       "      <td>0.864232</td>\n",
       "      <td>0.007465</td>\n",
       "      <td>0.729011</td>\n",
       "      <td>0.002873</td>\n",
       "      <td>{'n_factors': 20, 'lr_all': 0.001, 'reg_all': ...</td>\n",
       "    </tr>\n",
       "    <tr>\n",
       "      <th>3</th>\n",
       "      <td>0.866677</td>\n",
       "      <td>0.005820</td>\n",
       "      <td>0.729999</td>\n",
       "      <td>0.001671</td>\n",
       "      <td>{'n_factors': 25, 'lr_all': 0.001, 'reg_all': ...</td>\n",
       "    </tr>\n",
       "    <tr>\n",
       "      <th>8</th>\n",
       "      <td>0.929330</td>\n",
       "      <td>0.010050</td>\n",
       "      <td>0.749213</td>\n",
       "      <td>0.003714</td>\n",
       "      <td>{'n_factors': 15, 'lr_all': 0.002, 'reg_all': ...</td>\n",
       "    </tr>\n",
       "    <tr>\n",
       "      <th>9</th>\n",
       "      <td>0.944870</td>\n",
       "      <td>0.007026</td>\n",
       "      <td>0.754519</td>\n",
       "      <td>0.002287</td>\n",
       "      <td>{'n_factors': 15, 'lr_all': 0.002, 'reg_all': ...</td>\n",
       "    </tr>\n",
       "    <tr>\n",
       "      <th>4</th>\n",
       "      <td>0.952931</td>\n",
       "      <td>0.011957</td>\n",
       "      <td>0.757742</td>\n",
       "      <td>0.003303</td>\n",
       "      <td>{'n_factors': 20, 'lr_all': 0.002, 'reg_all': ...</td>\n",
       "    </tr>\n",
       "    <tr>\n",
       "      <th>5</th>\n",
       "      <td>0.966377</td>\n",
       "      <td>0.005610</td>\n",
       "      <td>0.762524</td>\n",
       "      <td>0.002548</td>\n",
       "      <td>{'n_factors': 20, 'lr_all': 0.002, 'reg_all': ...</td>\n",
       "    </tr>\n",
       "  </tbody>\n",
       "</table>\n",
       "</div>"
      ],
      "text/plain": [
       "    mean_test_mse  std_test_mse  mean_test_mae  std_test_mae  \\\n",
       "10       0.852797      0.004257       0.724805      0.001370   \n",
       "6        0.856057      0.008569       0.725754      0.002052   \n",
       "11       0.858529      0.008924       0.726866      0.002893   \n",
       "2        0.859703      0.008624       0.727487      0.003044   \n",
       "7        0.864232      0.007465       0.729011      0.002873   \n",
       "3        0.866677      0.005820       0.729999      0.001671   \n",
       "8        0.929330      0.010050       0.749213      0.003714   \n",
       "9        0.944870      0.007026       0.754519      0.002287   \n",
       "4        0.952931      0.011957       0.757742      0.003303   \n",
       "5        0.966377      0.005610       0.762524      0.002548   \n",
       "\n",
       "                                               params  \n",
       "10  {'n_factors': 15, 'lr_all': 0.001, 'reg_all': ...  \n",
       "6   {'n_factors': 20, 'lr_all': 0.001, 'reg_all': ...  \n",
       "11  {'n_factors': 15, 'lr_all': 0.001, 'reg_all': ...  \n",
       "2   {'n_factors': 25, 'lr_all': 0.001, 'reg_all': ...  \n",
       "7   {'n_factors': 20, 'lr_all': 0.001, 'reg_all': ...  \n",
       "3   {'n_factors': 25, 'lr_all': 0.001, 'reg_all': ...  \n",
       "8   {'n_factors': 15, 'lr_all': 0.002, 'reg_all': ...  \n",
       "9   {'n_factors': 15, 'lr_all': 0.002, 'reg_all': ...  \n",
       "4   {'n_factors': 20, 'lr_all': 0.002, 'reg_all': ...  \n",
       "5   {'n_factors': 20, 'lr_all': 0.002, 'reg_all': ...  "
      ]
     },
     "execution_count": 18,
     "metadata": {},
     "output_type": "execute_result"
    }
   ],
   "source": [
    "df = pd.DataFrame(gs.cv_results)\n",
    "df_final = df[\n",
    "    [\n",
    "        \"mean_test_mse\",\n",
    "        \"std_test_mse\",\n",
    "        \"mean_test_mae\",\n",
    "        \"std_test_mae\",\n",
    "        \"params\",\n",
    "    ]\n",
    "]\n",
    "df_final.sort_values(\"mean_test_mse\", ascending=True).head(10)"
   ]
  },
  {
   "cell_type": "markdown",
   "metadata": {},
   "source": [
    "Getting the best score for each metric achieved and their respective hyper parameter combination"
   ]
  },
  {
   "cell_type": "code",
   "execution_count": 19,
   "metadata": {},
   "outputs": [
    {
     "data": {
      "text/plain": [
       "({'mse': {'n_factors': 15, 'lr_all': 0.001, 'reg_all': 0.002, 'n_epochs': 100},\n",
       "  'mae': {'n_factors': 15,\n",
       "   'lr_all': 0.001,\n",
       "   'reg_all': 0.002,\n",
       "   'n_epochs': 100}},\n",
       " {'mse': 0.8527970618826071, 'mae': 0.7248052533817531})"
      ]
     },
     "execution_count": 19,
     "metadata": {},
     "output_type": "execute_result"
    }
   ],
   "source": [
    "gs.best_params, gs.best_score"
   ]
  },
  {
   "cell_type": "markdown",
   "metadata": {},
   "source": [
    "finally testing the best combination of hyper parameters on our test data"
   ]
  },
  {
   "cell_type": "code",
   "execution_count": 20,
   "metadata": {},
   "outputs": [
    {
     "name": "stdout",
     "output_type": "stream",
     "text": [
      " MAE: 0.7106358349280463\n",
      " MSE: 0.8272398493595747\n",
      "RMSE: 0.909527266968712\n"
     ]
    }
   ],
   "source": [
    "gs_r = gs.test(data_test)\n",
    "print(f\" MAE: {mae(gs_r,verbose=False)}\")\n",
    "print(f\" MSE: {mse(gs_r,verbose=False)}\")\n",
    "print(f\"RMSE: {rmse(gs_r,verbose=False)}\")"
   ]
  },
  {
   "cell_type": "markdown",
   "metadata": {},
   "source": [
    "saving the learnt model"
   ]
  },
  {
   "cell_type": "code",
   "execution_count": 21,
   "metadata": {},
   "outputs": [],
   "source": [
    "from surprise.dump import dump\n",
    "dump(\"../model/model.pkl\", algo=gs)"
   ]
  }
 ],
 "metadata": {
  "kernelspec": {
   "display_name": "venv-test",
   "language": "python",
   "name": "python3"
  },
  "language_info": {
   "codemirror_mode": {
    "name": "ipython",
    "version": 3
   },
   "file_extension": ".py",
   "mimetype": "text/x-python",
   "name": "python",
   "nbconvert_exporter": "python",
   "pygments_lexer": "ipython3",
   "version": "3.10.7"
  }
 },
 "nbformat": 4,
 "nbformat_minor": 2
}
